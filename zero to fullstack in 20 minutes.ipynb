{
 "cells": [
  {
   "cell_type": "markdown",
   "metadata": {},
   "source": [
    "# Requirements #\n",
    "\n",
    "* python 3\n",
    "* pip\n",
    "* flask\n",
    "* sqlalchemy\n",
    "* npm\n",
    "* bower\n",
    "* git\n",
    "\n",
    "Git you'll need to install yourself. Everything thereafter can be done with system_dependencies, python_dependencies, web_dependencies (.bat if you're on windows, .sh if you're on OS X or Linux)"
   ]
  },
  {
   "cell_type": "code",
   "execution_count": null,
   "metadata": {
    "collapsed": true
   },
   "outputs": [],
   "source": []
  },
  {
   "cell_type": "code",
   "execution_count": 18,
   "metadata": {
    "collapsed": true
   },
   "outputs": [],
   "source": [
    "from sqlalchemy import create_engine\n",
    "from sqlalchemy.ext.declarative import declarative_base\n",
    "from sqlalchemy import Column, Integer, String\n",
    "import cryptography"
   ]
  },
  {
   "cell_type": "code",
   "execution_count": 4,
   "metadata": {
    "collapsed": false
   },
   "outputs": [],
   "source": [
    "engine = create_engine('sqlite:///:memory:')"
   ]
  },
  {
   "cell_type": "code",
   "execution_count": 19,
   "metadata": {
    "collapsed": false
   },
   "outputs": [],
   "source": [
    "Base = declarative_base()\n",
    "\n",
    "class User(Base):\n",
    "    __tablename__ = \"Users\"\n",
    "    id = Column(Integer, primary_key=True)\n",
    "    name = Column(String)\n",
    "    fullname = Column(String)\n",
    "    password = Column(String)\n",
    "\n",
    "    def __repr__(self):\n",
    "        return \"<User(name='%s', fullname='%s', password='%s')>\" % (\n",
    "            self.name, self.fullname, self.password)\n",
    "\n",
    "User.__table__\n",
    "\n",
    "Base.metadata.create_all(engine)"
   ]
  },
  {
   "cell_type": "code",
   "execution_count": 20,
   "metadata": {
    "collapsed": true
   },
   "outputs": [],
   "source": [
    "ed_user = User(name='edna', fullname='Ed Jones', password='edspassword')"
   ]
  },
  {
   "cell_type": "code",
   "execution_count": 7,
   "metadata": {
    "collapsed": false
   },
   "outputs": [
    {
     "data": {
      "text/plain": [
       "<User(name='edna', fullname='Ed Jones', password='edspassword')>"
      ]
     },
     "execution_count": 7,
     "metadata": {},
     "output_type": "execute_result"
    }
   ],
   "source": [
    "ed_user"
   ]
  },
  {
   "cell_type": "code",
   "execution_count": 8,
   "metadata": {
    "collapsed": true
   },
   "outputs": [],
   "source": [
    "from sqlalchemy.orm import sessionmaker\n",
    "Session = sessionmaker(bind=engine)\n",
    "session = Session()"
   ]
  },
  {
   "cell_type": "code",
   "execution_count": 9,
   "metadata": {
    "collapsed": false
   },
   "outputs": [],
   "source": [
    "session.add(ed_user)\n",
    "session.commit()"
   ]
  },
  {
   "cell_type": "code",
   "execution_count": 10,
   "metadata": {
    "collapsed": false
   },
   "outputs": [],
   "source": [
    "our_user = session.query(User).filter_by(name='dfgdfgdfgdfg').first()"
   ]
  },
  {
   "cell_type": "code",
   "execution_count": 11,
   "metadata": {
    "collapsed": false
   },
   "outputs": [
    {
     "name": "stdout",
     "output_type": "stream",
     "text": [
      "None\n"
     ]
    }
   ],
   "source": [
    "ed_user is our_user\n",
    "print(our_user)"
   ]
  },
  {
   "cell_type": "code",
   "execution_count": 12,
   "metadata": {
    "collapsed": false
   },
   "outputs": [
    {
     "data": {
      "text/plain": [
       "IdentitySet([])"
      ]
     },
     "execution_count": 12,
     "metadata": {},
     "output_type": "execute_result"
    }
   ],
   "source": [
    "session.dirty"
   ]
  },
  {
   "cell_type": "code",
   "execution_count": 13,
   "metadata": {
    "collapsed": false
   },
   "outputs": [
    {
     "data": {
      "text/plain": [
       "IdentitySet([])"
      ]
     },
     "execution_count": 13,
     "metadata": {},
     "output_type": "execute_result"
    }
   ],
   "source": [
    "session.new"
   ]
  },
  {
   "cell_type": "code",
   "execution_count": 14,
   "metadata": {
    "collapsed": false
   },
   "outputs": [],
   "source": [
    "session.commit()"
   ]
  },
  {
   "cell_type": "code",
   "execution_count": 15,
   "metadata": {
    "collapsed": false
   },
   "outputs": [
    {
     "data": {
      "text/plain": [
       "['_Session__binds',\n",
       " '__class__',\n",
       " '__contains__',\n",
       " '__delattr__',\n",
       " '__dict__',\n",
       " '__dir__',\n",
       " '__doc__',\n",
       " '__eq__',\n",
       " '__format__',\n",
       " '__ge__',\n",
       " '__getattribute__',\n",
       " '__gt__',\n",
       " '__hash__',\n",
       " '__init__',\n",
       " '__iter__',\n",
       " '__le__',\n",
       " '__lt__',\n",
       " '__module__',\n",
       " '__ne__',\n",
       " '__new__',\n",
       " '__reduce__',\n",
       " '__reduce_ex__',\n",
       " '__repr__',\n",
       " '__setattr__',\n",
       " '__sizeof__',\n",
       " '__str__',\n",
       " '__subclasshook__',\n",
       " '__weakref__',\n",
       " '_add_bind',\n",
       " '_attach',\n",
       " '_autoflush',\n",
       " '_before_attach',\n",
       " '_bulk_save_mappings',\n",
       " '_close_impl',\n",
       " '_conditional_expire',\n",
       " '_connection_for_bind',\n",
       " '_contains_state',\n",
       " '_delete_impl',\n",
       " '_deleted',\n",
       " '_dirty_states',\n",
       " '_enable_transaction_accounting',\n",
       " '_expire_state',\n",
       " '_expunge_state',\n",
       " '_flush',\n",
       " '_flush_warning',\n",
       " '_flushing',\n",
       " '_identity_cls',\n",
       " '_is_clean',\n",
       " '_merge',\n",
       " '_new',\n",
       " '_query_cls',\n",
       " '_register_altered',\n",
       " '_register_newly_persistent',\n",
       " '_remove_newly_deleted',\n",
       " '_save_impl',\n",
       " '_save_or_update_impl',\n",
       " '_save_or_update_state',\n",
       " '_update_impl',\n",
       " '_validate_persistent',\n",
       " '_warn_on_events',\n",
       " 'add',\n",
       " 'add_all',\n",
       " 'autocommit',\n",
       " 'autoflush',\n",
       " 'begin',\n",
       " 'begin_nested',\n",
       " 'bind',\n",
       " 'bind_mapper',\n",
       " 'bind_table',\n",
       " 'bulk_insert_mappings',\n",
       " 'bulk_save_objects',\n",
       " 'bulk_update_mappings',\n",
       " 'close',\n",
       " 'close_all',\n",
       " 'commit',\n",
       " 'connection',\n",
       " 'connection_callable',\n",
       " 'delete',\n",
       " 'deleted',\n",
       " 'dirty',\n",
       " 'dispatch',\n",
       " 'enable_relationship_loading',\n",
       " 'execute',\n",
       " 'expire',\n",
       " 'expire_all',\n",
       " 'expire_on_commit',\n",
       " 'expunge',\n",
       " 'expunge_all',\n",
       " 'flush',\n",
       " 'get_bind',\n",
       " 'hash_key',\n",
       " 'identity_key',\n",
       " 'identity_map',\n",
       " 'info',\n",
       " 'invalidate',\n",
       " 'is_active',\n",
       " 'is_modified',\n",
       " 'merge',\n",
       " 'new',\n",
       " 'no_autoflush',\n",
       " 'object_session',\n",
       " 'prepare',\n",
       " 'prune',\n",
       " 'public_methods',\n",
       " 'query',\n",
       " 'refresh',\n",
       " 'rollback',\n",
       " 'scalar',\n",
       " 'transaction',\n",
       " 'twophase']"
      ]
     },
     "execution_count": 15,
     "metadata": {},
     "output_type": "execute_result"
    }
   ],
   "source": [
    "dir(session)"
   ]
  },
  {
   "cell_type": "code",
   "execution_count": 16,
   "metadata": {
    "collapsed": false
   },
   "outputs": [
    {
     "data": {
      "text/plain": [
       "['Users']"
      ]
     },
     "execution_count": 16,
     "metadata": {},
     "output_type": "execute_result"
    }
   ],
   "source": [
    "engine.table_names()"
   ]
  },
  {
   "cell_type": "markdown",
   "metadata": {},
   "source": [
    "# Followup #\n",
    "http://docs.sqlalchemy.org/en/latest/orm/tutorial.html"
   ]
  },
  {
   "cell_type": "code",
   "execution_count": 17,
   "metadata": {
    "collapsed": false
   },
   "outputs": [
    {
     "data": {
      "text/plain": [
       "[<User(name='edna', fullname='Ed Jones', password='edspassword')>]"
      ]
     },
     "execution_count": 17,
     "metadata": {},
     "output_type": "execute_result"
    }
   ],
   "source": [
    "session.query(User).all()"
   ]
  },
  {
   "cell_type": "code",
   "execution_count": null,
   "metadata": {
    "collapsed": true
   },
   "outputs": [],
   "source": []
  }
 ],
 "metadata": {
  "kernelspec": {
   "display_name": "Python 3",
   "language": "python",
   "name": "python3"
  },
  "language_info": {
   "codemirror_mode": {
    "name": "ipython",
    "version": 3
   },
   "file_extension": ".py",
   "mimetype": "text/x-python",
   "name": "python",
   "nbconvert_exporter": "python",
   "pygments_lexer": "ipython3",
   "version": "3.5.1"
  }
 },
 "nbformat": 4,
 "nbformat_minor": 0
}
